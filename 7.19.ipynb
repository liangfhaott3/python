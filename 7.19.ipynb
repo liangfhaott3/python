{
 "cells": [
  {
   "cell_type": "markdown",
   "metadata": {},
   "source": [
    "# 循环\n",
    "- 循环是一种控制语句块重复执行的结构\n",
    "- while  适用于广度遍历\n",
    "- for    开发中经常使用"
   ]
  },
  {
   "cell_type": "markdown",
   "metadata": {},
   "source": [
    "## while 循环\n",
    "- 当一个条件保持真的时候while循环重复执行语句\n",
    "- while 循环一定要有结束条件，否则很容易进入死循环\n",
    "- while 循环的语法是：\n",
    "\n",
    "    while loop-contunuation-conndition:\n",
    "\n",
    "        Statement"
   ]
  },
  {
   "cell_type": "code",
   "execution_count": null,
   "metadata": {},
   "outputs": [],
   "source": [
    "i = 0\n",
    "while i<10:\n",
    "    print('hahaha')\n",
    "    i += 1"
   ]
  },
  {
   "cell_type": "markdown",
   "metadata": {},
   "source": [
    "## 示例：\n",
    "sum = 0\n",
    "\n",
    "i = 1\n",
    "\n",
    "while i <10:\n",
    "\n",
    "    sum = sum + i\n",
    "    i = i + 1"
   ]
  },
  {
   "cell_type": "markdown",
   "metadata": {},
   "source": [
    "## 错误示例：\n",
    "sum = 0\n",
    "\n",
    "i = 1\n",
    "\n",
    "while i <10:\n",
    "\n",
    "    sum = sum + i\n",
    "\n",
    "i = i + 1\n",
    "- 一旦进入死循环可按 Ctrl + c 停止"
   ]
  },
  {
   "cell_type": "markdown",
   "metadata": {},
   "source": [
    "## EP：\n",
    "![](../Photo/143.png)\n",
    "![](../Photo/144.png)"
   ]
  },
  {
   "cell_type": "markdown",
   "metadata": {},
   "source": [
    "# 验证码\n",
    "- 随机产生四个字母的验证码，如果正确，输出验证码正确。如果错误，产生新的验证码，用户重新输入。\n",
    "- 验证码只能输入三次，如果三次都错，返回“别爬了，我们小网站没什么好爬的”\n",
    "- 密码登录，如果三次错误，账号被锁定\n"
   ]
  },
  {
   "cell_type": "code",
   "execution_count": 1,
   "metadata": {},
   "outputs": [],
   "source": [
    "import random"
   ]
  },
  {
   "cell_type": "code",
   "execution_count": 29,
   "metadata": {},
   "outputs": [
    {
     "name": "stdout",
     "output_type": "stream",
     "text": [
      "JWUy\n"
     ]
    }
   ],
   "source": [
    "n = random.randint(65,122)\n",
    "N = \"\"\n",
    "i = 0\n",
    "while 1:\n",
    "    if 91<=n<=96:\n",
    "        n = random.randint(65,122)\n",
    "    else:\n",
    "        N += chr(n)\n",
    "        n = random.randint(65,122)\n",
    "        i += 1\n",
    "        if i == 4:\n",
    "            break\n",
    "print(N)"
   ]
  },
  {
   "cell_type": "code",
   "execution_count": null,
   "metadata": {},
   "outputs": [],
   "source": [
    "count = 0\n",
    "for i in range(1000):\n",
    "    a = random.randint(0,1000) / 1000\n",
    "    if 0<a<0.001"
   ]
  },
  {
   "cell_type": "code",
   "execution_count": null,
   "metadata": {},
   "outputs": [],
   "source": []
  },
  {
   "cell_type": "markdown",
   "metadata": {},
   "source": [
    "## 尝试死循环"
   ]
  },
  {
   "cell_type": "markdown",
   "metadata": {},
   "source": [
    "## 实例研究：猜数字\n",
    "- 你将要编写一个能够随机生成一个0到10之间的且包括两者的数字程序，这个程序\n",
    "- 提示用户连续地输入数字直到正确，且提示用户输入的数字是过高还是过低"
   ]
  },
  {
   "cell_type": "markdown",
   "metadata": {},
   "source": [
    "## 使用哨兵值来控制循环\n",
    "- 哨兵值来表明输入的结束\n",
    "- ![](../Photo/54.png)"
   ]
  },
  {
   "cell_type": "markdown",
   "metadata": {},
   "source": [
    "## 警告\n",
    "![](../Photo/55.png)"
   ]
  },
  {
   "cell_type": "markdown",
   "metadata": {},
   "source": [
    "## for 循环\n",
    "- Python的for 循环通过一个序列中的每个值来进行迭代\n",
    "- range(a,b,k)， a，b，k 必须为整数\n",
    "- a: start\n",
    "- b: end\n",
    "- k: step\n",
    "- 注意for 是循环一切可迭代对象，而不是只能使用range"
   ]
  },
  {
   "cell_type": "code",
   "execution_count": 9,
   "metadata": {
    "collapsed": true
   },
   "outputs": [
    {
     "name": "stdout",
     "output_type": "stream",
     "text": [
      "Joker is a better man!\n",
      "Joker is a better man!\n",
      "Joker is a better man!\n",
      "Joker is a better man!\n",
      "Joker is a better man!\n",
      "Joker is a better man!\n",
      "Joker is a better man!\n",
      "Joker is a better man!\n",
      "Joker is a better man!\n",
      "Joker is a better man!\n",
      "Joker is a better man!\n",
      "Joker is a better man!\n",
      "Joker is a better man!\n",
      "Joker is a better man!\n",
      "Joker is a better man!\n",
      "Joker is a better man!\n",
      "Joker is a better man!\n",
      "Joker is a better man!\n",
      "Joker is a better man!\n",
      "Joker is a better man!\n",
      "Joker is a better man!\n",
      "Joker is a better man!\n",
      "Joker is a better man!\n",
      "Joker is a better man!\n",
      "Joker is a better man!\n",
      "Joker is a better man!\n",
      "Joker is a better man!\n",
      "Joker is a better man!\n",
      "Joker is a better man!\n",
      "Joker is a better man!\n",
      "Joker is a better man!\n",
      "Joker is a better man!\n",
      "Joker is a better man!\n",
      "Joker is a better man!\n",
      "Joker is a better man!\n",
      "Joker is a better man!\n",
      "Joker is a better man!\n",
      "Joker is a better man!\n",
      "Joker is a better man!\n",
      "Joker is a better man!\n",
      "Joker is a better man!\n",
      "Joker is a better man!\n",
      "Joker is a better man!\n",
      "Joker is a better man!\n",
      "Joker is a better man!\n",
      "Joker is a better man!\n",
      "Joker is a better man!\n",
      "Joker is a better man!\n",
      "Joker is a better man!\n",
      "Joker is a better man!\n",
      "Joker is a better man!\n",
      "Joker is a better man!\n",
      "Joker is a better man!\n",
      "Joker is a better man!\n",
      "Joker is a better man!\n",
      "Joker is a better man!\n",
      "Joker is a better man!\n",
      "Joker is a better man!\n",
      "Joker is a better man!\n",
      "Joker is a better man!\n",
      "Joker is a better man!\n",
      "Joker is a better man!\n",
      "Joker is a better man!\n",
      "Joker is a better man!\n",
      "Joker is a better man!\n",
      "Joker is a better man!\n",
      "Joker is a better man!\n",
      "Joker is a better man!\n",
      "Joker is a better man!\n",
      "Joker is a better man!\n",
      "Joker is a better man!\n",
      "Joker is a better man!\n",
      "Joker is a better man!\n",
      "Joker is a better man!\n",
      "Joker is a better man!\n",
      "Joker is a better man!\n",
      "Joker is a better man!\n",
      "Joker is a better man!\n",
      "Joker is a better man!\n",
      "Joker is a better man!\n",
      "Joker is a better man!\n",
      "Joker is a better man!\n",
      "Joker is a better man!\n",
      "Joker is a better man!\n",
      "Joker is a better man!\n",
      "Joker is a better man!\n",
      "Joker is a better man!\n",
      "Joker is a better man!\n",
      "Joker is a better man!\n",
      "Joker is a better man!\n",
      "Joker is a better man!\n",
      "Joker is a better man!\n",
      "Joker is a better man!\n",
      "Joker is a better man!\n",
      "Joker is a better man!\n",
      "Joker is a better man!\n",
      "Joker is a better man!\n",
      "Joker is a better man!\n",
      "Joker is a better man!\n",
      "Joker is a better man!\n"
     ]
    }
   ],
   "source": [
    "for i in range(100):\n",
    "    print('Joker is a better man!')"
   ]
  },
  {
   "cell_type": "code",
   "execution_count": 14,
   "metadata": {},
   "outputs": [],
   "source": [
    "a = 100"
   ]
  },
  {
   "cell_type": "code",
   "execution_count": 10,
   "metadata": {},
   "outputs": [
    {
     "data": {
      "text/plain": [
       "<str_iterator at 0x10b8863c8>"
      ]
     },
     "execution_count": 10,
     "metadata": {},
     "output_type": "execute_result"
    }
   ],
   "source": [
    "bb = 'JOker'\n",
    "bb.__iter__()"
   ]
  },
  {
   "cell_type": "code",
   "execution_count": null,
   "metadata": {},
   "outputs": [],
   "source": []
  },
  {
   "cell_type": "code",
   "execution_count": 16,
   "metadata": {},
   "outputs": [],
   "source": [
    "c = [1,2,3]\n",
    "c.__iter__"
   ]
  },
  {
   "cell_type": "code",
   "execution_count": null,
   "metadata": {},
   "outputs": [],
   "source": [
    "{'key':'value'}.__iter__\n",
    "(1,3,43).__iter__\n",
    "{1,2,43}.__iter__"
   ]
  },
  {
   "cell_type": "code",
   "execution_count": 19,
   "metadata": {},
   "outputs": [
    {
     "ename": "TypeError",
     "evalue": "'bool' object is not iterable",
     "output_type": "error",
     "traceback": [
      "\u001b[0;31m---------------------------------------------------------------------------\u001b[0m",
      "\u001b[0;31mTypeError\u001b[0m                                 Traceback (most recent call last)",
      "\u001b[0;32m<ipython-input-19-425af1773ecf>\u001b[0m in \u001b[0;36m<module>\u001b[0;34m\u001b[0m\n\u001b[0;32m----> 1\u001b[0;31m \u001b[0;32mfor\u001b[0m \u001b[0mi\u001b[0m \u001b[0;32min\u001b[0m \u001b[0;32mTrue\u001b[0m\u001b[0;34m:\u001b[0m\u001b[0;34m\u001b[0m\u001b[0;34m\u001b[0m\u001b[0m\n\u001b[0m\u001b[1;32m      2\u001b[0m     \u001b[0mprint\u001b[0m\u001b[0;34m(\u001b[0m\u001b[0mi\u001b[0m\u001b[0;34m)\u001b[0m\u001b[0;34m\u001b[0m\u001b[0;34m\u001b[0m\u001b[0m\n",
      "\u001b[0;31mTypeError\u001b[0m: 'bool' object is not iterable"
     ]
    }
   ],
   "source": [
    "for i in range(5):\n",
    "    print(i)"
   ]
  },
  {
   "cell_type": "markdown",
   "metadata": {},
   "source": [
    "# 在Python里面一切皆对象"
   ]
  },
  {
   "cell_type": "markdown",
   "metadata": {},
   "source": [
    "## EP:\n",
    "- ![](../Photo/145.png)"
   ]
  },
  {
   "cell_type": "code",
   "execution_count": 2,
   "metadata": {},
   "outputs": [
    {
     "name": "stdout",
     "output_type": "stream",
     "text": [
      "10011\n"
     ]
    }
   ],
   "source": [
    "i = 1\n",
    "sum_ = 0\n",
    "while sum_ < 10000:\n",
    "    sum_ += i\n",
    "    i += 1\n",
    "print(sum_)"
   ]
  },
  {
   "cell_type": "code",
   "execution_count": 1,
   "metadata": {},
   "outputs": [
    {
     "name": "stdout",
     "output_type": "stream",
     "text": [
      "10011\n"
     ]
    }
   ],
   "source": [
    "sum_ = 0\n",
    "for i in range(1,10001):\n",
    "    sum_ += i\n",
    "    if sum_ > 10000:\n",
    "        break\n",
    "print(sum_)"
   ]
  },
  {
   "cell_type": "code",
   "execution_count": 22,
   "metadata": {},
   "outputs": [
    {
     "name": "stdout",
     "output_type": "stream",
     "text": [
      "500500\n"
     ]
    }
   ],
   "source": [
    "sum = 0\n",
    "i = 0\n",
    "while i < 1001:\n",
    "    sum = sum + i\n",
    "    i += 1\n",
    "print(sum)"
   ]
  },
  {
   "cell_type": "markdown",
   "metadata": {},
   "source": [
    "## 嵌套循环\n",
    "- 一个循环可以嵌套另一个循环\n",
    "- 每次循环外层时，内层循环都会被刷新重新完成循环\n",
    "- 也就是说，大循环执行一次，小循环会全部执行一次\n",
    "- 注意：\n",
    "> - 多层循环非常耗时\n",
    "  - 最多使用3层循环"
   ]
  },
  {
   "cell_type": "code",
   "execution_count": null,
   "metadata": {},
   "outputs": [],
   "source": []
  },
  {
   "cell_type": "markdown",
   "metadata": {},
   "source": [
    "## EP：\n",
    "- 使用多层循环完成9X9乘法表\n",
    "- 显示50以内所有的素数"
   ]
  },
  {
   "cell_type": "markdown",
   "metadata": {},
   "source": [
    "## 关键字 break 和 continue\n",
    "- break 跳出循环，终止循环\n",
    "- continue 跳出此次循环，继续执行"
   ]
  },
  {
   "cell_type": "code",
   "execution_count": 19,
   "metadata": {
    "collapsed": true
   },
   "outputs": [
    {
     "name": "stdout",
     "output_type": "stream",
     "text": [
      "1 X 1 = 1 \n",
      "1 X 2 = 2 2 X 2 = 4 \n",
      "1 X 3 = 3 2 X 3 = 6 3 X 3 = 9 \n",
      "1 X 4 = 4 2 X 4 = 8 3 X 4 = 12 4 X 4 = 16 \n",
      "1 X 5 = 5 2 X 5 = 10 3 X 5 = 15 4 X 5 = 20 5 X 5 = 25 \n",
      "1 X 6 = 6 2 X 6 = 12 3 X 6 = 18 4 X 6 = 24 5 X 6 = 30 6 X 6 = 36 \n",
      "1 X 7 = 7 2 X 7 = 14 3 X 7 = 21 4 X 7 = 28 5 X 7 = 35 6 X 7 = 42 7 X 7 = 49 \n",
      "1 X 8 = 8 2 X 8 = 16 3 X 8 = 24 4 X 8 = 32 5 X 8 = 40 6 X 8 = 48 7 X 8 = 56 8 X 8 = 64 \n",
      "1 X 9 = 9 2 X 9 = 18 3 X 9 = 27 4 X 9 = 36 5 X 9 = 45 6 X 9 = 54 7 X 9 = 63 8 X 9 = 72 9 X 9 = 81 \n"
     ]
    }
   ],
   "source": [
    "for i in range(1,10):\n",
    "    for j in range(1,i+1):\n",
    "        print(j,'X',i,'=',i*j,end=' ')\n",
    "    print()"
   ]
  },
  {
   "cell_type": "markdown",
   "metadata": {},
   "source": [
    "## 注意\n",
    "![](../Photo/56.png)\n",
    "![](../Photo/57.png)"
   ]
  },
  {
   "cell_type": "markdown",
   "metadata": {},
   "source": [
    "# Homework\n",
    "- 1 \n",
    "![](../Photo/58.png)"
   ]
  },
  {
   "cell_type": "code",
   "execution_count": 2,
   "metadata": {},
   "outputs": [
    {
     "name": "stdout",
     "output_type": "stream",
     "text": [
      "Enter an integer,the input ends if it is 0:6\n",
      "Enter an integer,the input ends if it is 0:-4\n",
      "Enter an integer,the input ends if it is 0:2\n",
      "Enter an integer,the input ends if it is 0:3\n",
      "Enter an integer,the input ends if it is 0:0\n",
      "正数的个数为： 3\n",
      "负数的个数为： 1\n",
      "总和为： 7\n",
      "平均值为： 1.75\n"
     ]
    }
   ],
   "source": [
    "zs=0\n",
    "fs=0\n",
    "he=0\n",
    "x=1\n",
    "cs=0\n",
    "def js(zs,fs,he,x,cs):\n",
    "    #参数：zs,fs,he,x,cs\n",
    "    #功能：计算正数和负数的个数，然后算和，再计算平均数\n",
    "    while x!=0:\n",
    "        x=eval(input('Enter an integer,the input ends if it is 0:'))\n",
    "        if x > 0:\n",
    "            zs += 1\n",
    "        if x < 0:\n",
    "            fs += 1\n",
    "        if x != 0:\n",
    "            cs += 1\n",
    "            he = he + x\n",
    "    print('正数的个数为：',zs)\n",
    "    print('负数的个数为：',fs)\n",
    "    print('总和为：',he)\n",
    "    print('平均值为：',he/cs)\n",
    "js(zs,fs,he,x,cs)"
   ]
  },
  {
   "cell_type": "markdown",
   "metadata": {},
   "source": [
    "- 2\n",
    "![](../Photo/59.png)"
   ]
  },
  {
   "cell_type": "code",
   "execution_count": 4,
   "metadata": {},
   "outputs": [
    {
     "name": "stdout",
     "output_type": "stream",
     "text": [
      "十年后的学费为： 16288.946267774414\n",
      "十年后大学四年的总学费为： 19799.31599439397\n"
     ]
    }
   ],
   "source": [
    "my=10000\n",
    "def xf(my):\n",
    "    for i in range(14):\n",
    "        my = my*0.05+my\n",
    "        if i  == 9:\n",
    "            print('十年后的学费为：',my)\n",
    "    print('十年后大学四年的总学费为：',my)\n",
    "    \n",
    "xf(my)"
   ]
  },
  {
   "cell_type": "markdown",
   "metadata": {},
   "source": [
    "- 3\n",
    "![](../Photo/58.png)"
   ]
  },
  {
   "cell_type": "code",
   "execution_count": 5,
   "metadata": {},
   "outputs": [
    {
     "name": "stdout",
     "output_type": "stream",
     "text": [
      "Enter an integer,the input ends if it is 0:4\n",
      "Enter an integer,the input ends if it is 0:-6\n",
      "Enter an integer,the input ends if it is 0:9\n",
      "Enter an integer,the input ends if it is 0:-7\n",
      "Enter an integer,the input ends if it is 0:0\n",
      "正数的个数为： 2\n",
      "负数的个数为： 2\n",
      "总和为： 0\n",
      "平均值为： 0.0\n"
     ]
    }
   ],
   "source": [
    "zs=0\n",
    "fs=0\n",
    "he=0\n",
    "x=1\n",
    "cs=0\n",
    "def js(zs,fs,he,x,cs):\n",
    "    #参数：zs,fs,he,x,cs\n",
    "    #功能：计算正数和负数的个数，然后算和，再计算平均数\n",
    "    while x!=0:\n",
    "        x=eval(input('Enter an integer,the input ends if it is 0:'))\n",
    "        if x > 0:\n",
    "            zs += 1\n",
    "        if x < 0:\n",
    "            fs += 1\n",
    "        if x != 0:\n",
    "            cs += 1\n",
    "            he = he + x\n",
    "    print('正数的个数为：',zs)\n",
    "    print('负数的个数为：',fs)\n",
    "    print('总和为：',he)\n",
    "    print('平均值为：',he/cs)\n",
    "js(zs,fs,he,x,cs)"
   ]
  },
  {
   "cell_type": "markdown",
   "metadata": {},
   "source": [
    "- 4\n",
    "![](../Photo/60.png)"
   ]
  },
  {
   "cell_type": "code",
   "execution_count": 6,
   "metadata": {},
   "outputs": [
    {
     "name": "stdout",
     "output_type": "stream",
     "text": [
      "120 150 180 210 240 270 300 330 360 390 \n",
      "420 450 480 510 540 570 600 630 660 690 \n",
      "720 750 780 810 840 870 900 930 960 990 \n"
     ]
    }
   ],
   "source": [
    "a=0\n",
    "def zs(a):\n",
    "    for i in range(100,1001):\n",
    "        if i % 5 == 0 and i % 6 == 0:\n",
    "            print(i,end=' ')\n",
    "            a += 1\n",
    "            if a % 10 == 0:\n",
    "                print()\n",
    "zs(a)\n",
    "        "
   ]
  },
  {
   "cell_type": "markdown",
   "metadata": {},
   "source": [
    "- 5\n",
    "![](../Photo/61.png)"
   ]
  },
  {
   "cell_type": "code",
   "execution_count": 7,
   "metadata": {},
   "outputs": [
    {
     "name": "stdout",
     "output_type": "stream",
     "text": [
      "110\n"
     ]
    }
   ],
   "source": [
    "a=0\n",
    "def js(a):\n",
    "    while 1:\n",
    "        b=a**2\n",
    "        if b>12000:\n",
    "            break\n",
    "        else:\n",
    "            a += 1\n",
    "    print(a)\n",
    "js(a)"
   ]
  },
  {
   "cell_type": "code",
   "execution_count": 8,
   "metadata": {},
   "outputs": [
    {
     "name": "stdout",
     "output_type": "stream",
     "text": [
      "22\n"
     ]
    }
   ],
   "source": [
    "a=0\n",
    "def js(a):\n",
    "    while 1:\n",
    "        b=a**3\n",
    "        if b<12000:\n",
    "            a += 1\n",
    "        else:\n",
    "            break\n",
    "    print(a-1)\n",
    "js(a)"
   ]
  },
  {
   "cell_type": "markdown",
   "metadata": {},
   "source": [
    "- 6\n",
    "![](../Photo/62.png)"
   ]
  },
  {
   "cell_type": "code",
   "execution_count": 12,
   "metadata": {},
   "outputs": [
    {
     "name": "stdout",
     "output_type": "stream",
     "text": [
      "10000\n",
      "5\n",
      "利率为： 5 % 月利率为： 500.0 总和为： 12000.0\n",
      "利率为： 5.125 % 月利率为： 512.5 总和为： 12300.0\n",
      "利率为： 5.25 % 月利率为： 525.0 总和为： 12600.0\n",
      "......\n",
      "利率为： 5.375 % 月利率为： 537.5 总和为： 12900.0\n",
      "利率为： 5.5 % 月利率为： 550.0 总和为： 13200.0\n",
      "利率为： 5.625 % 月利率为： 562.5 总和为： 13500.0\n",
      "利率为： 5.75 % 月利率为： 575.0 总和为： 13800.0\n",
      "利率为： 5.875 % 月利率为： 587.5 总和为： 14100.0\n",
      "利率为： 6.0 % 月利率为： 600.0 总和为： 14400.0\n",
      "利率为： 6.125 % 月利率为： 612.5 总和为： 14700.0\n",
      "利率为： 6.25 % 月利率为： 625.0 总和为： 15000.0\n",
      "利率为： 6.375 % 月利率为： 637.5 总和为： 15300.0\n",
      "利率为： 6.5 % 月利率为： 650.0 总和为： 15600.0\n",
      "利率为： 6.625 % 月利率为： 662.5 总和为： 15900.0\n",
      "利率为： 6.75 % 月利率为： 675.0 总和为： 16200.0\n",
      "利率为： 6.875 % 月利率为： 687.5 总和为： 16500.0\n",
      "利率为： 7.0 % 月利率为： 700.0 总和为： 16800.0\n",
      "利率为： 7.125 % 月利率为： 712.5 总和为： 17100.0\n",
      "利率为： 7.25 % 月利率为： 725.0 总和为： 17400.0\n",
      "利率为： 7.375 % 月利率为： 737.5 总和为： 17700.0\n",
      "利率为： 7.5 % 月利率为： 750.0 总和为： 18000.0\n",
      "利率为： 7.625 % 月利率为： 762.5 总和为： 18300.0\n",
      "利率为： 7.75 % 月利率为： 775.0 总和为： 18600.0\n",
      "利率为： 7.875 % 月利率为： 787.5 总和为： 18900.0\n",
      "利率为： 8.0 % 月利率为： 800.0 总和为： 19200.0\n"
     ]
    }
   ],
   "source": [
    "m=int(input())\n",
    "zq=int(input())\n",
    "n=2\n",
    "def hq(m,zq,n):\n",
    "    for i in range(25):\n",
    "        ylv=m*zq/100\n",
    "        zh=12*ylv*n\n",
    "        print('利率为：',zq,\"%\",\"月利率为：\",ylv,'总和为：',zh)\n",
    "        if zq==5.25:\n",
    "            print('......')\n",
    "        zq += 1/8\n",
    "hq(m,zq,n)"
   ]
  },
  {
   "cell_type": "markdown",
   "metadata": {},
   "source": [
    "- 7\n",
    "![](../Photo/63.png)"
   ]
  },
  {
   "cell_type": "code",
   "execution_count": 14,
   "metadata": {},
   "outputs": [
    {
     "name": "stdout",
     "output_type": "stream",
     "text": [
      "11.397003949278519\n"
     ]
    }
   ],
   "source": [
    "a=0\n",
    "def jqs(a):\n",
    "    for i in range(50000,0,-1):\n",
    "        a += 1/i\n",
    "    print(a)\n",
    "jqs(a)"
   ]
  },
  {
   "cell_type": "code",
   "execution_count": 13,
   "metadata": {},
   "outputs": [
    {
     "name": "stdout",
     "output_type": "stream",
     "text": [
      "11.396983949278505\n"
     ]
    }
   ],
   "source": [
    "a=0\n",
    "def jqs(a):\n",
    "    for i in range(1,50000,1):\n",
    "        a += 1/i\n",
    "    print(a)\n",
    "jqs(a)"
   ]
  },
  {
   "cell_type": "markdown",
   "metadata": {},
   "source": [
    "- 8\n",
    "![](../Photo/64.png)"
   ]
  },
  {
   "cell_type": "code",
   "execution_count": 15,
   "metadata": {},
   "outputs": [
    {
     "name": "stdout",
     "output_type": "stream",
     "text": [
      "45.124450303050196\n"
     ]
    }
   ],
   "source": [
    "a=0\n",
    "def jh(a):\n",
    "    for i in range(1,98,2):\n",
    "        a += i/(i+2)\n",
    "    print(a)\n",
    "jh(a)"
   ]
  },
  {
   "cell_type": "markdown",
   "metadata": {},
   "source": [
    "- 9\n",
    "![](../Photo/65.png)"
   ]
  },
  {
   "cell_type": "code",
   "execution_count": 16,
   "metadata": {},
   "outputs": [
    {
     "name": "stdout",
     "output_type": "stream",
     "text": [
      "3.1416926635905345\n"
     ]
    }
   ],
   "source": [
    "a=0\n",
    "def jh(a):\n",
    "    for i in range(1,10000):\n",
    "        a += 4*((-1)**(i+1)/(2*i-1))\n",
    "    print(a)\n",
    "jh(a)"
   ]
  },
  {
   "cell_type": "code",
   "execution_count": 17,
   "metadata": {},
   "outputs": [
    {
     "name": "stdout",
     "output_type": "stream",
     "text": [
      "3.1416426560898874\n"
     ]
    }
   ],
   "source": [
    "a=0\n",
    "def jh(a):\n",
    "    for i in range(1,20000):\n",
    "        a += 4*((-1)**(i+1)/(2*i-1))\n",
    "    print(a)\n",
    "jh(a)"
   ]
  },
  {
   "cell_type": "code",
   "execution_count": 18,
   "metadata": {},
   "outputs": [
    {
     "name": "stdout",
     "output_type": "stream",
     "text": [
      "3.1416026536897204\n"
     ]
    }
   ],
   "source": [
    "a=0\n",
    "def jh(a):\n",
    "    for i in range(1,100000):\n",
    "        a += 4*((-1)**(i+1)/(2*i-1))\n",
    "    print(a)\n",
    "jh(a)"
   ]
  },
  {
   "cell_type": "markdown",
   "metadata": {},
   "source": [
    "- 10 \n",
    "![](../Photo/66.png)"
   ]
  },
  {
   "cell_type": "code",
   "execution_count": 19,
   "metadata": {},
   "outputs": [
    {
     "name": "stdout",
     "output_type": "stream",
     "text": [
      "6\n",
      "28\n",
      "496\n",
      "8128\n"
     ]
    }
   ],
   "source": [
    "def wqs():\n",
    "    for i in range(1,10000):\n",
    "        a=0\n",
    "        for j in range(1,i):\n",
    "            if i % j == 0:\n",
    "                a += j\n",
    "        if i == a:\n",
    "            print(i)\n",
    "wqs()"
   ]
  },
  {
   "cell_type": "markdown",
   "metadata": {},
   "source": [
    "- 11\n",
    "![](../Photo/67.png)"
   ]
  },
  {
   "cell_type": "code",
   "execution_count": 20,
   "metadata": {},
   "outputs": [
    {
     "name": "stdout",
     "output_type": "stream",
     "text": [
      "1 2\n",
      "1 3\n",
      "1 4\n",
      "1 5\n",
      "1 6\n",
      "1 7\n",
      "3 2\n",
      "3 4\n",
      "3 5\n",
      "3 6\n",
      "3 7\n",
      "5 2\n",
      "5 3\n",
      "5 4\n",
      "5 6\n",
      "5 7\n",
      "7 2\n",
      "7 3\n",
      "7 4\n",
      "7 5\n",
      "7 6\n"
     ]
    }
   ],
   "source": [
    "a=0\n",
    "def zs(a):\n",
    "    for i in range(1,8,2):\n",
    "        for j in range(2,8):\n",
    "            if i != j:\n",
    "                print(i,j)\n",
    "                a += 1\n",
    "zs(a)"
   ]
  },
  {
   "cell_type": "markdown",
   "metadata": {},
   "source": [
    "- 12\n",
    "![](../Photo/68.png)"
   ]
  },
  {
   "cell_type": "code",
   "execution_count": 23,
   "metadata": {},
   "outputs": [
    {
     "name": "stdout",
     "output_type": "stream",
     "text": [
      "Entwe ten numner:1\n",
      "2\n",
      "3\n",
      "5.5\n",
      "5.6\n",
      "6\n",
      "7\n",
      "8\n",
      "9\n",
      "10\n",
      "The mean is : 5.71\n",
      "The standard deviation is : 7.956899999999999\n"
     ]
    }
   ],
   "source": [
    "def sz():\n",
    "    x=float(input('Entwe ten numner:'))\n",
    "    x1=float(input())\n",
    "    x2=float(input())\n",
    "    x3=float(input())\n",
    "    x4=float(input())\n",
    "    x5=float(input())\n",
    "    x6=float(input())\n",
    "    x7=float(input())\n",
    "    x8=float(input())\n",
    "    x9=float(input())\n",
    "    sum_ = (x+x1+x2+x3+x4+x5+x6+x7+x8+x9)/10\n",
    "    print('The mean is :',sum_)\n",
    "    fc=((x-sum_)**2+(x1-sum_)**2+(x2-sum_)**2+(x3-sum_)**2+(x4-sum_)**2+(x5-sum_)**2+(x6-sum_)**2+(x7-sum_)**2+(x8-sum_)**2+(x9-sum_)**2)/10\n",
    "    print('The standard deviation is :',fc)\n",
    "sz()\n"
   ]
  },
  {
   "cell_type": "code",
   "execution_count": null,
   "metadata": {},
   "outputs": [],
   "source": []
  }
 ],
 "metadata": {
  "kernelspec": {
   "display_name": "Python 3",
   "language": "python",
   "name": "python3"
  },
  "language_info": {
   "codemirror_mode": {
    "name": "ipython",
    "version": 3
   },
   "file_extension": ".py",
   "mimetype": "text/x-python",
   "name": "python",
   "nbconvert_exporter": "python",
   "pygments_lexer": "ipython3",
   "version": "3.7.3"
  }
 },
 "nbformat": 4,
 "nbformat_minor": 2
}
